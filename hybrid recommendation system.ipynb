{
 "cells": [
  {
   "cell_type": "code",
   "execution_count": 1,
   "id": "f289b63f",
   "metadata": {},
   "outputs": [],
   "source": [
    "import pandas as pd"
   ]
  },
  {
   "cell_type": "code",
   "execution_count": 2,
   "id": "2411cdca",
   "metadata": {},
   "outputs": [],
   "source": [
    "job_data = pd.read_csv('linkdin_Job_data.csv')"
   ]
  },
  {
   "cell_type": "code",
   "execution_count": 3,
   "id": "ea01dfab",
   "metadata": {},
   "outputs": [
    {
     "data": {
      "text/html": [
       "<div>\n",
       "<style scoped>\n",
       "    .dataframe tbody tr th:only-of-type {\n",
       "        vertical-align: middle;\n",
       "    }\n",
       "\n",
       "    .dataframe tbody tr th {\n",
       "        vertical-align: top;\n",
       "    }\n",
       "\n",
       "    .dataframe thead th {\n",
       "        text-align: right;\n",
       "    }\n",
       "</style>\n",
       "<table border=\"1\" class=\"dataframe\">\n",
       "  <thead>\n",
       "    <tr style=\"text-align: right;\">\n",
       "      <th></th>\n",
       "      <th>job_ID</th>\n",
       "      <th>job</th>\n",
       "      <th>location</th>\n",
       "      <th>company_id</th>\n",
       "      <th>company_name</th>\n",
       "      <th>work_type</th>\n",
       "      <th>full_time_remote</th>\n",
       "      <th>no_of_employ</th>\n",
       "      <th>no_of_application</th>\n",
       "      <th>posted_day_ago</th>\n",
       "      <th>alumni</th>\n",
       "      <th>Hiring_person</th>\n",
       "      <th>linkedin_followers</th>\n",
       "      <th>hiring_person_link</th>\n",
       "      <th>job_details</th>\n",
       "      <th>Column1</th>\n",
       "    </tr>\n",
       "  </thead>\n",
       "  <tbody>\n",
       "    <tr>\n",
       "      <th>0</th>\n",
       "      <td>3471657636</td>\n",
       "      <td>Data Analyst, Trilogy (Remote) - $60,000/year USD</td>\n",
       "      <td>Delhi, Delhi, India</td>\n",
       "      <td>NaN</td>\n",
       "      <td>Crossover</td>\n",
       "      <td>Remote</td>\n",
       "      <td>Full-time · Associate</td>\n",
       "      <td>1,001-5,000 employees · IT Services and IT Con...</td>\n",
       "      <td>200</td>\n",
       "      <td>8 hours</td>\n",
       "      <td>12 company alumni</td>\n",
       "      <td>NaN</td>\n",
       "      <td>5,395,547 followers</td>\n",
       "      <td>NaN</td>\n",
       "      <td>About the job Crossover is the world's #1 sour...</td>\n",
       "      <td>NaN</td>\n",
       "    </tr>\n",
       "    <tr>\n",
       "      <th>1</th>\n",
       "      <td>3471669068</td>\n",
       "      <td>Data Analyst, Trilogy (Remote) - $60,000/year USD</td>\n",
       "      <td>New Delhi, Delhi, India</td>\n",
       "      <td>NaN</td>\n",
       "      <td>Crossover</td>\n",
       "      <td>Remote</td>\n",
       "      <td>Full-time · Associate</td>\n",
       "      <td>1,001-5,000 employees · IT Services and IT Con...</td>\n",
       "      <td>184</td>\n",
       "      <td>8 hours</td>\n",
       "      <td>12 company alumni</td>\n",
       "      <td>NaN</td>\n",
       "      <td>5,395,547 followers</td>\n",
       "      <td>NaN</td>\n",
       "      <td>About the job Crossover is the world's #1 sour...</td>\n",
       "      <td>NaN</td>\n",
       "    </tr>\n",
       "    <tr>\n",
       "      <th>2</th>\n",
       "      <td>3474349934</td>\n",
       "      <td>Data Analyst - WFH</td>\n",
       "      <td>Greater Bengaluru Area</td>\n",
       "      <td>NaN</td>\n",
       "      <td>Uplers</td>\n",
       "      <td>Remote</td>\n",
       "      <td>Full-time · Mid-Senior level</td>\n",
       "      <td>1,001-5,000 employees · IT Services and IT Con...</td>\n",
       "      <td>200</td>\n",
       "      <td>9 hours</td>\n",
       "      <td>3 company alumni</td>\n",
       "      <td>Shahid Ahmad</td>\n",
       "      <td>NaN</td>\n",
       "      <td>https://www.linkedin.com/in/shahid-ahmad-a2613...</td>\n",
       "      <td>About the job Profile: ML EngineersExperience:...</td>\n",
       "      <td>NaN</td>\n",
       "    </tr>\n",
       "    <tr>\n",
       "      <th>3</th>\n",
       "      <td>3472816027</td>\n",
       "      <td>Data Analyst</td>\n",
       "      <td>Gurugram, Haryana, India</td>\n",
       "      <td>NaN</td>\n",
       "      <td>PVAR SERVICES</td>\n",
       "      <td>On-site</td>\n",
       "      <td>Full-time</td>\n",
       "      <td>1-10 employees</td>\n",
       "      <td>200</td>\n",
       "      <td>7 hours</td>\n",
       "      <td>NaN</td>\n",
       "      <td>Vartika Singh</td>\n",
       "      <td>2,094 followers</td>\n",
       "      <td>https://www.linkedin.com/in/vartika-singh-</td>\n",
       "      <td>About the job Designation: Data AnalystLocatio...</td>\n",
       "      <td>NaN</td>\n",
       "    </tr>\n",
       "    <tr>\n",
       "      <th>4</th>\n",
       "      <td>3473311511</td>\n",
       "      <td>Data Analyst</td>\n",
       "      <td>Mohali district, Punjab, India</td>\n",
       "      <td>NaN</td>\n",
       "      <td>Timeline Freight Brokers</td>\n",
       "      <td>On-site</td>\n",
       "      <td>Full-time</td>\n",
       "      <td>1-10 employees</td>\n",
       "      <td>8</td>\n",
       "      <td>26 minutes</td>\n",
       "      <td>1 company alumni</td>\n",
       "      <td>Manisha (Gisele Smith)</td>\n",
       "      <td>NaN</td>\n",
       "      <td>https://www.linkedin.com/in/manisharathore0029</td>\n",
       "      <td>About the job The ideal candidate will use the...</td>\n",
       "      <td>NaN</td>\n",
       "    </tr>\n",
       "  </tbody>\n",
       "</table>\n",
       "</div>"
      ],
      "text/plain": [
       "       job_ID                                                job  \\\n",
       "0  3471657636  Data Analyst, Trilogy (Remote) - $60,000/year USD   \n",
       "1  3471669068  Data Analyst, Trilogy (Remote) - $60,000/year USD   \n",
       "2  3474349934                                 Data Analyst - WFH   \n",
       "3  3472816027                                       Data Analyst   \n",
       "4  3473311511                                       Data Analyst   \n",
       "\n",
       "                         location  company_id              company_name  \\\n",
       "0             Delhi, Delhi, India         NaN                 Crossover   \n",
       "1         New Delhi, Delhi, India         NaN                 Crossover   \n",
       "2          Greater Bengaluru Area         NaN                    Uplers   \n",
       "3        Gurugram, Haryana, India         NaN             PVAR SERVICES   \n",
       "4  Mohali district, Punjab, India         NaN  Timeline Freight Brokers   \n",
       "\n",
       "  work_type              full_time_remote  \\\n",
       "0    Remote         Full-time · Associate   \n",
       "1    Remote         Full-time · Associate   \n",
       "2    Remote  Full-time · Mid-Senior level   \n",
       "3   On-site                     Full-time   \n",
       "4   On-site                     Full-time   \n",
       "\n",
       "                                        no_of_employ no_of_application  \\\n",
       "0  1,001-5,000 employees · IT Services and IT Con...               200   \n",
       "1  1,001-5,000 employees · IT Services and IT Con...               184   \n",
       "2  1,001-5,000 employees · IT Services and IT Con...               200   \n",
       "3                                     1-10 employees               200   \n",
       "4                                     1-10 employees                 8   \n",
       "\n",
       "  posted_day_ago             alumni           Hiring_person  \\\n",
       "0        8 hours  12 company alumni                     NaN   \n",
       "1        8 hours  12 company alumni                     NaN   \n",
       "2        9 hours   3 company alumni            Shahid Ahmad   \n",
       "3        7 hours                NaN           Vartika Singh   \n",
       "4     26 minutes   1 company alumni  Manisha (Gisele Smith)   \n",
       "\n",
       "    linkedin_followers                                 hiring_person_link  \\\n",
       "0  5,395,547 followers                                                NaN   \n",
       "1  5,395,547 followers                                                NaN   \n",
       "2                  NaN  https://www.linkedin.com/in/shahid-ahmad-a2613...   \n",
       "3      2,094 followers         https://www.linkedin.com/in/vartika-singh-   \n",
       "4                  NaN     https://www.linkedin.com/in/manisharathore0029   \n",
       "\n",
       "                                         job_details  Column1  \n",
       "0  About the job Crossover is the world's #1 sour...      NaN  \n",
       "1  About the job Crossover is the world's #1 sour...      NaN  \n",
       "2  About the job Profile: ML EngineersExperience:...      NaN  \n",
       "3  About the job Designation: Data AnalystLocatio...      NaN  \n",
       "4  About the job The ideal candidate will use the...      NaN  "
      ]
     },
     "execution_count": 3,
     "metadata": {},
     "output_type": "execute_result"
    }
   ],
   "source": [
    "job_data.head()"
   ]
  },
  {
   "cell_type": "code",
   "execution_count": 4,
   "id": "0714c857",
   "metadata": {},
   "outputs": [],
   "source": [
    "job_ratings = pd.read_csv('job raings.csv')"
   ]
  },
  {
   "cell_type": "code",
   "execution_count": 5,
   "id": "dce41699",
   "metadata": {},
   "outputs": [
    {
     "data": {
      "text/html": [
       "<div>\n",
       "<style scoped>\n",
       "    .dataframe tbody tr th:only-of-type {\n",
       "        vertical-align: middle;\n",
       "    }\n",
       "\n",
       "    .dataframe tbody tr th {\n",
       "        vertical-align: top;\n",
       "    }\n",
       "\n",
       "    .dataframe thead th {\n",
       "        text-align: right;\n",
       "    }\n",
       "</style>\n",
       "<table border=\"1\" class=\"dataframe\">\n",
       "  <thead>\n",
       "    <tr style=\"text-align: right;\">\n",
       "      <th></th>\n",
       "      <th>user_id</th>\n",
       "      <th>job_post</th>\n",
       "      <th>company</th>\n",
       "      <th>user ratings</th>\n",
       "      <th>company_review</th>\n",
       "      <th>exp_required</th>\n",
       "      <th>salary_offered</th>\n",
       "      <th>job_location</th>\n",
       "      <th>job_description</th>\n",
       "      <th>required_skills</th>\n",
       "      <th>Posted_as_on_22_5_2022</th>\n",
       "    </tr>\n",
       "  </thead>\n",
       "  <tbody>\n",
       "    <tr>\n",
       "      <th>0</th>\n",
       "      <td>1</td>\n",
       "      <td>Information Technology Executive</td>\n",
       "      <td>Marriott</td>\n",
       "      <td>4.2</td>\n",
       "      <td>(2907 Reviews)</td>\n",
       "      <td>0-3 Yrs</td>\n",
       "      <td>Not disclosed</td>\n",
       "      <td>Bhopal</td>\n",
       "      <td>POSITION SUMMARY Troubleshoot and resolve tech...</td>\n",
       "      <td>Supervisor\\nAdministration\\nTactical planning\\...</td>\n",
       "      <td>5 DAYS AGO</td>\n",
       "    </tr>\n",
       "    <tr>\n",
       "      <th>1</th>\n",
       "      <td>2</td>\n",
       "      <td>Associate Director-Information Technology(SAP)</td>\n",
       "      <td>Unacademy</td>\n",
       "      <td>3.4</td>\n",
       "      <td>(544 Reviews)</td>\n",
       "      <td>5-15 Yrs</td>\n",
       "      <td>Not disclosed</td>\n",
       "      <td>Noida, Greater Noida</td>\n",
       "      <td>Support / manage timely delivery of custom dev...</td>\n",
       "      <td>Relationship management\\nSAP MM\\nPharma\\nAnaly...</td>\n",
       "      <td>3 DAYS AGO</td>\n",
       "    </tr>\n",
       "    <tr>\n",
       "      <th>2</th>\n",
       "      <td>3</td>\n",
       "      <td>Lead - Information Technology</td>\n",
       "      <td>EchoIndia</td>\n",
       "      <td>4.0</td>\n",
       "      <td>(20 Reviews)</td>\n",
       "      <td>11-13 Yrs</td>\n",
       "      <td>Not disclosed</td>\n",
       "      <td>Delhi / NCR</td>\n",
       "      <td>Experience in designing modern REST APIs that ...</td>\n",
       "      <td>Spring\\nDocker\\nSystem Design\\nPaaS\\nMicroserv...</td>\n",
       "      <td>1 DAY AGO</td>\n",
       "    </tr>\n",
       "    <tr>\n",
       "      <th>3</th>\n",
       "      <td>4</td>\n",
       "      <td>Information Technology - Project Manager</td>\n",
       "      <td>Tata International</td>\n",
       "      <td>4.1</td>\n",
       "      <td>(287 Reviews)</td>\n",
       "      <td>4-8 Yrs</td>\n",
       "      <td>Not disclosed</td>\n",
       "      <td>Mumbai (All Areas)</td>\n",
       "      <td>Should be able to manage a project using vario...</td>\n",
       "      <td>project management\\nit projects\\ninformation t...</td>\n",
       "      <td>2 DAYS AGO</td>\n",
       "    </tr>\n",
       "    <tr>\n",
       "      <th>4</th>\n",
       "      <td>10</td>\n",
       "      <td>Information Technology Trainee</td>\n",
       "      <td>Stefanini</td>\n",
       "      <td>3.8</td>\n",
       "      <td>(75 Reviews)</td>\n",
       "      <td>2-7 Yrs</td>\n",
       "      <td>Not disclosed</td>\n",
       "      <td>Noida</td>\n",
       "      <td>The resource will be expected to cross skill\\t...</td>\n",
       "      <td>POP\\nTraining\\nBasic\\nNetworking\\nIntern\\nIT i...</td>\n",
       "      <td>4 DAYS AGO</td>\n",
       "    </tr>\n",
       "  </tbody>\n",
       "</table>\n",
       "</div>"
      ],
      "text/plain": [
       "   user_id                                        job_post  \\\n",
       "0        1                Information Technology Executive   \n",
       "1        2  Associate Director-Information Technology(SAP)   \n",
       "2        3                   Lead - Information Technology   \n",
       "3        4        Information Technology - Project Manager   \n",
       "4       10                  Information Technology Trainee   \n",
       "\n",
       "              company  user ratings   company_review exp_required  \\\n",
       "0            Marriott            4.2  (2907 Reviews)      0-3 Yrs   \n",
       "1           Unacademy            3.4   (544 Reviews)     5-15 Yrs   \n",
       "2           EchoIndia            4.0    (20 Reviews)    11-13 Yrs   \n",
       "3  Tata International            4.1   (287 Reviews)      4-8 Yrs   \n",
       "4           Stefanini            3.8    (75 Reviews)      2-7 Yrs   \n",
       "\n",
       "  salary_offered          job_location  \\\n",
       "0  Not disclosed                Bhopal   \n",
       "1  Not disclosed  Noida, Greater Noida   \n",
       "2  Not disclosed           Delhi / NCR   \n",
       "3  Not disclosed    Mumbai (All Areas)   \n",
       "4  Not disclosed                 Noida   \n",
       "\n",
       "                                     job_description  \\\n",
       "0  POSITION SUMMARY Troubleshoot and resolve tech...   \n",
       "1  Support / manage timely delivery of custom dev...   \n",
       "2  Experience in designing modern REST APIs that ...   \n",
       "3  Should be able to manage a project using vario...   \n",
       "4  The resource will be expected to cross skill\\t...   \n",
       "\n",
       "                                     required_skills Posted_as_on_22_5_2022  \n",
       "0  Supervisor\\nAdministration\\nTactical planning\\...             5 DAYS AGO  \n",
       "1  Relationship management\\nSAP MM\\nPharma\\nAnaly...             3 DAYS AGO  \n",
       "2  Spring\\nDocker\\nSystem Design\\nPaaS\\nMicroserv...              1 DAY AGO  \n",
       "3  project management\\nit projects\\ninformation t...             2 DAYS AGO  \n",
       "4  POP\\nTraining\\nBasic\\nNetworking\\nIntern\\nIT i...             4 DAYS AGO  "
      ]
     },
     "execution_count": 5,
     "metadata": {},
     "output_type": "execute_result"
    }
   ],
   "source": [
    "job_ratings.head()"
   ]
  },
  {
   "cell_type": "code",
   "execution_count": 6,
   "id": "2c22b006",
   "metadata": {},
   "outputs": [
    {
     "data": {
      "text/plain": [
       "0    About the job Crossover is the world's #1 sour...\n",
       "1    About the job Crossover is the world's #1 sour...\n",
       "2    About the job Profile: ML EngineersExperience:...\n",
       "3    About the job Designation: Data AnalystLocatio...\n",
       "4    About the job The ideal candidate will use the...\n",
       "Name: job_details, dtype: object"
      ]
     },
     "execution_count": 6,
     "metadata": {},
     "output_type": "execute_result"
    }
   ],
   "source": [
    "job_data[\"job_details\"].head()"
   ]
  },
  {
   "cell_type": "code",
   "execution_count": 7,
   "id": "c91b8973",
   "metadata": {},
   "outputs": [],
   "source": [
    "from sklearn.feature_extraction.text import ENGLISH_STOP_WORDS\n",
    "import string"
   ]
  },
  {
   "cell_type": "code",
   "execution_count": 8,
   "id": "543ed114",
   "metadata": {},
   "outputs": [],
   "source": [
    "def preprocess_text(text):\n",
    "   \n",
    "    text = text.lower()\n",
    "    \n",
    "    text = text.translate(str.maketrans('', '', string.punctuation))\n",
    "   \n",
    "    tokens = text.split()\n",
    "    \n",
    "    tokens = [word for word in tokens if word not in ENGLISH_STOP_WORDS]\n",
    "    return \" \".join(tokens)"
   ]
  },
  {
   "cell_type": "code",
   "execution_count": 9,
   "id": "8a92bedd",
   "metadata": {},
   "outputs": [],
   "source": [
    "job_data['job_details_clean'] = job_data['job_details'].fillna('').apply(preprocess_text)"
   ]
  },
  {
   "cell_type": "code",
   "execution_count": 10,
   "id": "d3f32975",
   "metadata": {},
   "outputs": [
    {
     "data": {
      "text/plain": [
       "0    job crossover worlds 1 source fulltime remote ...\n",
       "1    job crossover worlds 1 source fulltime remote ...\n",
       "2    job profile ml engineersexperience 3 yearsloca...\n",
       "3    job designation data analystlocation gurgaonsa...\n",
       "4    job ideal candidate use passion big data analy...\n",
       "Name: job_details_clean, dtype: object"
      ]
     },
     "execution_count": 10,
     "metadata": {},
     "output_type": "execute_result"
    }
   ],
   "source": [
    "job_data['job_details_clean'].head()"
   ]
  },
  {
   "cell_type": "code",
   "execution_count": 11,
   "id": "1c0410c7",
   "metadata": {},
   "outputs": [],
   "source": [
    "from sklearn.feature_extraction.text import TfidfVectorizer"
   ]
  },
  {
   "cell_type": "code",
   "execution_count": 12,
   "id": "667d600f",
   "metadata": {},
   "outputs": [],
   "source": [
    "tfidf_vectorizer = TfidfVectorizer()"
   ]
  },
  {
   "cell_type": "code",
   "execution_count": 13,
   "id": "fd944d1f",
   "metadata": {},
   "outputs": [],
   "source": [
    "tfidf_matrix = tfidf_vectorizer.fit_transform(job_data['job_details_clean'])"
   ]
  },
  {
   "cell_type": "code",
   "execution_count": 14,
   "id": "7057f067",
   "metadata": {},
   "outputs": [
    {
     "data": {
      "text/plain": [
       "(7927, 59898)"
      ]
     },
     "execution_count": 14,
     "metadata": {},
     "output_type": "execute_result"
    }
   ],
   "source": [
    "tfidf_matrix.shape"
   ]
  },
  {
   "cell_type": "code",
   "execution_count": 15,
   "id": "3cd1d7fa",
   "metadata": {},
   "outputs": [],
   "source": [
    "from sklearn.metrics.pairwise import cosine_similarity"
   ]
  },
  {
   "cell_type": "code",
   "execution_count": 16,
   "id": "01d68012",
   "metadata": {},
   "outputs": [],
   "source": [
    "cosine_similarity_matrix = cosine_similarity(tfidf_matrix)"
   ]
  },
  {
   "cell_type": "code",
   "execution_count": 17,
   "id": "3e9abbee",
   "metadata": {},
   "outputs": [
    {
     "data": {
      "text/plain": [
       "(7927, 7927)"
      ]
     },
     "execution_count": 17,
     "metadata": {},
     "output_type": "execute_result"
    }
   ],
   "source": [
    "cosine_similarity_matrix.shape"
   ]
  },
  {
   "cell_type": "code",
   "execution_count": 18,
   "id": "946eca65",
   "metadata": {},
   "outputs": [],
   "source": [
    "def recommend_jobs_based_on_content(job_ID, top_n=5):\n",
    "    \n",
    "    job_idx = job_data[job_data['job_ID'] == job_ID].index[0]\n",
    "    \n",
    "    \n",
    "    similarity_scores = cosine_similarity_matrix[job_idx]\n",
    "    \n",
    "    \n",
    "    similar_jobs_idx = similarity_scores.argsort()[-top_n-1:-1][::-1]\n",
    "    \n",
    "    \n",
    "    similar_jobs = job_data.iloc[similar_jobs_idx]\n",
    "    \n",
    "    return similar_jobs[['job_ID', 'job', 'location', 'company_name']]"
   ]
  },
  {
   "cell_type": "code",
   "execution_count": 19,
   "id": "2b4116ce",
   "metadata": {},
   "outputs": [
    {
     "data": {
      "text/html": [
       "<div>\n",
       "<style scoped>\n",
       "    .dataframe tbody tr th:only-of-type {\n",
       "        vertical-align: middle;\n",
       "    }\n",
       "\n",
       "    .dataframe tbody tr th {\n",
       "        vertical-align: top;\n",
       "    }\n",
       "\n",
       "    .dataframe thead th {\n",
       "        text-align: right;\n",
       "    }\n",
       "</style>\n",
       "<table border=\"1\" class=\"dataframe\">\n",
       "  <thead>\n",
       "    <tr style=\"text-align: right;\">\n",
       "      <th></th>\n",
       "      <th>job_ID</th>\n",
       "      <th>job</th>\n",
       "      <th>location</th>\n",
       "      <th>company_name</th>\n",
       "    </tr>\n",
       "  </thead>\n",
       "  <tbody>\n",
       "    <tr>\n",
       "      <th>283</th>\n",
       "      <td>3471657636</td>\n",
       "      <td>Data Analyst, Trilogy (Remote) - $60,000/year USD</td>\n",
       "      <td>Delhi, Delhi, India</td>\n",
       "      <td>Crossover</td>\n",
       "    </tr>\n",
       "    <tr>\n",
       "      <th>1773</th>\n",
       "      <td>3471657636</td>\n",
       "      <td>Data Analyst, Trilogy (Remote) - $60,000/year USD</td>\n",
       "      <td>Delhi, Delhi, India</td>\n",
       "      <td>Crossover</td>\n",
       "    </tr>\n",
       "    <tr>\n",
       "      <th>3799</th>\n",
       "      <td>3471657636</td>\n",
       "      <td>Data Analyst, Trilogy (Remote) - $60,000/year USD</td>\n",
       "      <td>Delhi, Delhi, India</td>\n",
       "      <td>Crossover</td>\n",
       "    </tr>\n",
       "    <tr>\n",
       "      <th>5848</th>\n",
       "      <td>3471657636</td>\n",
       "      <td>Data Analyst, Trilogy (Remote) - $60,000/year USD</td>\n",
       "      <td>Delhi, Delhi, India</td>\n",
       "      <td>Crossover</td>\n",
       "    </tr>\n",
       "    <tr>\n",
       "      <th>771</th>\n",
       "      <td>3471657636</td>\n",
       "      <td>Data Analyst, Trilogy (Remote) - $60,000/year USD</td>\n",
       "      <td>Delhi, Delhi, India</td>\n",
       "      <td>Crossover</td>\n",
       "    </tr>\n",
       "  </tbody>\n",
       "</table>\n",
       "</div>"
      ],
      "text/plain": [
       "          job_ID                                                job  \\\n",
       "283   3471657636  Data Analyst, Trilogy (Remote) - $60,000/year USD   \n",
       "1773  3471657636  Data Analyst, Trilogy (Remote) - $60,000/year USD   \n",
       "3799  3471657636  Data Analyst, Trilogy (Remote) - $60,000/year USD   \n",
       "5848  3471657636  Data Analyst, Trilogy (Remote) - $60,000/year USD   \n",
       "771   3471657636  Data Analyst, Trilogy (Remote) - $60,000/year USD   \n",
       "\n",
       "                 location company_name  \n",
       "283   Delhi, Delhi, India    Crossover  \n",
       "1773  Delhi, Delhi, India    Crossover  \n",
       "3799  Delhi, Delhi, India    Crossover  \n",
       "5848  Delhi, Delhi, India    Crossover  \n",
       "771   Delhi, Delhi, India    Crossover  "
      ]
     },
     "execution_count": 19,
     "metadata": {},
     "output_type": "execute_result"
    }
   ],
   "source": [
    "sample_job_ID = job_data['job_ID'][0] \n",
    "recommendations_content_based = recommend_jobs_based_on_content(sample_job_ID)\n",
    "recommendations_content_based"
   ]
  },
  {
   "cell_type": "code",
   "execution_count": 20,
   "id": "5848f6cb",
   "metadata": {},
   "outputs": [],
   "source": [
    "job_data_no_duplicates = job_data.drop_duplicates(subset=['job_ID'])"
   ]
  },
  {
   "cell_type": "code",
   "execution_count": 21,
   "id": "cbcb7c61",
   "metadata": {},
   "outputs": [
    {
     "data": {
      "text/plain": [
       "(5843, 17)"
      ]
     },
     "execution_count": 21,
     "metadata": {},
     "output_type": "execute_result"
    }
   ],
   "source": [
    "job_data_no_duplicates.shape"
   ]
  },
  {
   "cell_type": "code",
   "execution_count": 22,
   "id": "15550234",
   "metadata": {},
   "outputs": [],
   "source": [
    "tfidf_matrix_no_duplicates = tfidf_vectorizer.transform(job_data_no_duplicates['job_details_clean'])"
   ]
  },
  {
   "cell_type": "code",
   "execution_count": 23,
   "id": "24cdc967",
   "metadata": {},
   "outputs": [],
   "source": [
    "cosine_similarity_matrix_no_duplicates = cosine_similarity(tfidf_matrix_no_duplicates)"
   ]
  },
  {
   "cell_type": "code",
   "execution_count": 24,
   "id": "64c1420d",
   "metadata": {},
   "outputs": [],
   "source": [
    "def recommend_jobs_based_on_content_no_duplicates(job_ID, top_n=5):\n",
    "    \n",
    "    job_idx = job_data_no_duplicates[job_data_no_duplicates['job_ID'] == job_ID].index[0]\n",
    "    \n",
    "    \n",
    "    similarity_scores = cosine_similarity_matrix_no_duplicates[job_idx]\n",
    "    \n",
    "    similar_jobs_idx = similarity_scores.argsort()[-top_n-1:-1][::-1]\n",
    "    \n",
    "    similar_jobs = job_data_no_duplicates.iloc[similar_jobs_idx]\n",
    "    \n",
    "    return similar_jobs[['job_ID', 'job', 'location', 'company_name']]"
   ]
  },
  {
   "cell_type": "code",
   "execution_count": 25,
   "id": "fbf8b9ea",
   "metadata": {},
   "outputs": [
    {
     "data": {
      "text/html": [
       "<div>\n",
       "<style scoped>\n",
       "    .dataframe tbody tr th:only-of-type {\n",
       "        vertical-align: middle;\n",
       "    }\n",
       "\n",
       "    .dataframe tbody tr th {\n",
       "        vertical-align: top;\n",
       "    }\n",
       "\n",
       "    .dataframe thead th {\n",
       "        text-align: right;\n",
       "    }\n",
       "</style>\n",
       "<table border=\"1\" class=\"dataframe\">\n",
       "  <thead>\n",
       "    <tr style=\"text-align: right;\">\n",
       "      <th></th>\n",
       "      <th>job_ID</th>\n",
       "      <th>job</th>\n",
       "      <th>location</th>\n",
       "      <th>company_name</th>\n",
       "    </tr>\n",
       "  </thead>\n",
       "  <tbody>\n",
       "    <tr>\n",
       "      <th>1</th>\n",
       "      <td>3471669068</td>\n",
       "      <td>Data Analyst, Trilogy (Remote) - $60,000/year USD</td>\n",
       "      <td>New Delhi, Delhi, India</td>\n",
       "      <td>Crossover</td>\n",
       "    </tr>\n",
       "    <tr>\n",
       "      <th>6</th>\n",
       "      <td>3471658510</td>\n",
       "      <td>Data Analyst, Trilogy (Remote) - $60,000/year USD</td>\n",
       "      <td>Bengaluru, Karnataka, India</td>\n",
       "      <td>Crossover</td>\n",
       "    </tr>\n",
       "    <tr>\n",
       "      <th>5885</th>\n",
       "      <td>3471662372</td>\n",
       "      <td>Analyst, Trilogy (Remote) - $60,000/year USD</td>\n",
       "      <td>Delhi, Delhi, India</td>\n",
       "      <td>Crossover</td>\n",
       "    </tr>\n",
       "    <tr>\n",
       "      <th>219</th>\n",
       "      <td>3471676193</td>\n",
       "      <td>Operations Analyst, Trilogy (Remote) - $30,000...</td>\n",
       "      <td>Kolkata, West Bengal, India</td>\n",
       "      <td>Crossover</td>\n",
       "    </tr>\n",
       "    <tr>\n",
       "      <th>1376</th>\n",
       "      <td>3471677468</td>\n",
       "      <td>Operations Analyst, Trilogy (Remote) - $30,000...</td>\n",
       "      <td>Chennai, Tamil Nadu, India</td>\n",
       "      <td>Crossover</td>\n",
       "    </tr>\n",
       "  </tbody>\n",
       "</table>\n",
       "</div>"
      ],
      "text/plain": [
       "          job_ID                                                job  \\\n",
       "1     3471669068  Data Analyst, Trilogy (Remote) - $60,000/year USD   \n",
       "6     3471658510  Data Analyst, Trilogy (Remote) - $60,000/year USD   \n",
       "5885  3471662372       Analyst, Trilogy (Remote) - $60,000/year USD   \n",
       "219   3471676193  Operations Analyst, Trilogy (Remote) - $30,000...   \n",
       "1376  3471677468  Operations Analyst, Trilogy (Remote) - $30,000...   \n",
       "\n",
       "                         location company_name  \n",
       "1         New Delhi, Delhi, India    Crossover  \n",
       "6     Bengaluru, Karnataka, India    Crossover  \n",
       "5885          Delhi, Delhi, India    Crossover  \n",
       "219   Kolkata, West Bengal, India    Crossover  \n",
       "1376   Chennai, Tamil Nadu, India    Crossover  "
      ]
     },
     "execution_count": 25,
     "metadata": {},
     "output_type": "execute_result"
    }
   ],
   "source": [
    "recommendations_content_based_no_duplicates = recommend_jobs_based_on_content_no_duplicates(sample_job_ID)\n",
    "recommendations_content_based_no_duplicates"
   ]
  },
  {
   "cell_type": "code",
   "execution_count": 26,
   "id": "e4bcb482",
   "metadata": {},
   "outputs": [],
   "source": [
    "top_jobs = job_ratings['job_post'].value_counts().head(1000).index\n",
    "\n",
    "\n",
    "top_users = job_ratings['user_id'].value_counts().head(1000).index"
   ]
  },
  {
   "cell_type": "code",
   "execution_count": 27,
   "id": "ad62d66e",
   "metadata": {},
   "outputs": [],
   "source": [
    "filtered_job_ratings = job_ratings[job_ratings['job_post'].isin(top_jobs) & job_ratings['user_id'].isin(top_users)]"
   ]
  },
  {
   "cell_type": "code",
   "execution_count": 28,
   "id": "8c304ce8",
   "metadata": {},
   "outputs": [],
   "source": [
    "filtered_user_job_matrix = filtered_job_ratings.pivot_table(index='user_id', columns='job_post', values='user ratings ', fill_value=0)"
   ]
  },
  {
   "cell_type": "code",
   "execution_count": 29,
   "id": "cc390ce0",
   "metadata": {},
   "outputs": [
    {
     "data": {
      "text/plain": [
       "((381, 155),\n",
       " job_post  Android Engineer  Angular Developer  \\\n",
       " user_id                                         \n",
       " 42576                    4                0.0   \n",
       " 42684                    0                0.0   \n",
       " 42687                    0                0.0   \n",
       " 42691                    0                0.0   \n",
       " 42697                    0                0.0   \n",
       " \n",
       " job_post  Application Database Administrator  \\\n",
       " user_id                                        \n",
       " 42576                                      0   \n",
       " 42684                                      0   \n",
       " 42687                                      0   \n",
       " 42691                                      0   \n",
       " 42697                                      0   \n",
       " \n",
       " job_post  Application Developer: AWS Cloud Microservices  \\\n",
       " user_id                                                    \n",
       " 42576                                                0.0   \n",
       " 42684                                                0.0   \n",
       " 42687                                                0.0   \n",
       " 42691                                                0.0   \n",
       " 42697                                                0.0   \n",
       " \n",
       " job_post  Application Developer: Google Cloud Microservices  \\\n",
       " user_id                                                       \n",
       " 42576                                                   0.0   \n",
       " 42684                                                   0.0   \n",
       " 42687                                                   0.0   \n",
       " 42691                                                   0.0   \n",
       " 42697                                                   0.0   \n",
       " \n",
       " job_post  Application Developer: RPA  Application Developer: TIBCO  \\\n",
       " user_id                                                              \n",
       " 42576                            0.0                           0.0   \n",
       " 42684                            0.0                           0.0   \n",
       " 42687                            0.0                           0.0   \n",
       " 42691                            0.0                           0.0   \n",
       " 42697                            0.0                           0.0   \n",
       " \n",
       " job_post  Application Engineer  Application Support Engineer  \\\n",
       " user_id                                                        \n",
       " 42576                      0.0                           0.0   \n",
       " 42684                      0.0                           0.0   \n",
       " 42687                      0.0                           0.0   \n",
       " 42691                      0.0                           0.0   \n",
       " 42697                      0.0                           0.0   \n",
       " \n",
       " job_post  Associate Consultant  ...  Technical Lead  \\\n",
       " user_id                         ...                   \n",
       " 42576                      0.0  ...             0.0   \n",
       " 42684                      0.0  ...             0.0   \n",
       " 42687                      0.0  ...             0.0   \n",
       " 42691                      0.0  ...             0.0   \n",
       " 42697                      0.0  ...             0.0   \n",
       " \n",
       " job_post  Technical Support Engineer  Technical Support Engineering  \\\n",
       " user_id                                                               \n",
       " 42576                            0.0                            0.0   \n",
       " 42684                            0.0                            0.0   \n",
       " 42687                            0.0                            0.0   \n",
       " 42691                            0.0                            0.0   \n",
       " 42697                            0.0                            0.0   \n",
       " \n",
       " job_post  Test Automation Engineer  Test Specialist Automation  \\\n",
       " user_id                                                          \n",
       " 42576                            0                           0   \n",
       " 42684                            0                           0   \n",
       " 42687                            0                           0   \n",
       " 42691                            0                           0   \n",
       " 42697                            0                           0   \n",
       " \n",
       " job_post  Test Specialist Performance & Capacity Management  Testing Engineer  \\\n",
       " user_id                                                                         \n",
       " 42576                                                     0               0.0   \n",
       " 42684                                                     0               0.0   \n",
       " 42687                                                     0               0.0   \n",
       " 42691                                                     0               0.0   \n",
       " 42697                                                     0               0.0   \n",
       " \n",
       " job_post  UI Developer  Verification Engineer  Web Developer  \n",
       " user_id                                                       \n",
       " 42576              0.0                    0.0            0.0  \n",
       " 42684              0.0                    0.0            0.0  \n",
       " 42687              0.0                    3.5            0.0  \n",
       " 42691              0.0                    3.5            0.0  \n",
       " 42697              0.0                    0.0            0.0  \n",
       " \n",
       " [5 rows x 155 columns])"
      ]
     },
     "execution_count": 29,
     "metadata": {},
     "output_type": "execute_result"
    }
   ],
   "source": [
    "filtered_user_job_matrix_shape = filtered_user_job_matrix.shape\n",
    "filtered_user_job_matrix_head = filtered_user_job_matrix.head()\n",
    "\n",
    "filtered_user_job_matrix_shape, filtered_user_job_matrix_head"
   ]
  },
  {
   "cell_type": "code",
   "execution_count": 30,
   "id": "f6ec509e",
   "metadata": {},
   "outputs": [],
   "source": [
    "user_similarity_matrix = cosine_similarity(filtered_user_job_matrix)\n",
    "\n",
    "\n",
    "user_similarity_df = pd.DataFrame(user_similarity_matrix, index=filtered_user_job_matrix.index, columns=filtered_user_job_matrix.index)"
   ]
  },
  {
   "cell_type": "code",
   "execution_count": 31,
   "id": "d98dc58a",
   "metadata": {},
   "outputs": [
    {
     "data": {
      "text/plain": [
       "((381, 381),\n",
       " user_id  42576  42684  42687  42691  42697  42699  42701  42707  42714  42715  \\\n",
       " user_id                                                                         \n",
       " 42576      1.0    0.0    0.0    0.0    0.0    0.0    0.0    0.0    0.0    0.0   \n",
       " 42684      0.0    1.0    0.0    0.0    0.0    0.0    0.0    0.0    0.0    0.0   \n",
       " 42687      0.0    0.0    1.0    1.0    0.0    0.0    0.0    0.0    0.0    0.0   \n",
       " 42691      0.0    0.0    1.0    1.0    0.0    0.0    0.0    0.0    0.0    0.0   \n",
       " 42697      0.0    0.0    0.0    0.0    1.0    0.0    0.0    0.0    0.0    0.0   \n",
       " \n",
       " user_id  ...  46081  46084  46086  46095  46104  46125  46126  46129  46139  \\\n",
       " user_id  ...                                                                  \n",
       " 42576    ...    0.0    0.0    0.0    0.0    0.0    0.0    0.0    0.0    0.0   \n",
       " 42684    ...    0.0    0.0    0.0    0.0    0.0    0.0    0.0    0.0    0.0   \n",
       " 42687    ...    0.0    0.0    0.0    0.0    0.0    0.0    0.0    0.0    0.0   \n",
       " 42691    ...    0.0    0.0    0.0    0.0    0.0    0.0    0.0    0.0    0.0   \n",
       " 42697    ...    0.0    0.0    0.0    0.0    0.0    0.0    0.0    0.0    0.0   \n",
       " \n",
       " user_id  46146  \n",
       " user_id         \n",
       " 42576      0.0  \n",
       " 42684      0.0  \n",
       " 42687      0.0  \n",
       " 42691      0.0  \n",
       " 42697      0.0  \n",
       " \n",
       " [5 rows x 381 columns])"
      ]
     },
     "execution_count": 31,
     "metadata": {},
     "output_type": "execute_result"
    }
   ],
   "source": [
    "user_similarity_shape = user_similarity_df.shape\n",
    "user_similarity_head = user_similarity_df.head()\n",
    "\n",
    "user_similarity_shape, user_similarity_head"
   ]
  },
  {
   "cell_type": "code",
   "execution_count": 34,
   "id": "d6514701",
   "metadata": {},
   "outputs": [],
   "source": [
    "def recommend_jobs_based_on_collaborative(user_id, top_n=5):\n",
    "    \n",
    "    user_similarity_scores = user_similarity_df.loc[user_id]\n",
    "    \n",
    "    \n",
    "    predicted_interest_dict = {}\n",
    "    \n",
    "    \n",
    "    for job in filtered_user_job_matrix.columns:\n",
    "        \n",
    "        if filtered_user_job_matrix.loc[user_id, job] != 0:\n",
    "            continue\n",
    "        \n",
    "        predicted_interest_dict[job] = sum(user_similarity_scores * filtered_user_job_matrix[job]) / sum(user_similarity_scores)\n",
    "    \n",
    "    \n",
    "    recommended_jobs = sorted(predicted_interest_dict, key=predicted_interest_dict.get, reverse=True)[:top_n]\n",
    "    \n",
    "    return recommended_jobs"
   ]
  },
  {
   "cell_type": "code",
   "execution_count": 35,
   "id": "43e22150",
   "metadata": {},
   "outputs": [
    {
     "data": {
      "text/plain": [
       "['Angular Developer',\n",
       " 'Application Database Administrator',\n",
       " 'Application Developer: AWS Cloud Microservices',\n",
       " 'Application Developer: Google Cloud Microservices',\n",
       " 'Application Developer: RPA']"
      ]
     },
     "execution_count": 35,
     "metadata": {},
     "output_type": "execute_result"
    }
   ],
   "source": [
    "recommendations_collaborative_based_fixed = recommend_jobs_based_on_collaborative(sample_user_ID)\n",
    "recommendations_collaborative_based_fixed"
   ]
  },
  {
   "cell_type": "code",
   "execution_count": 36,
   "id": "e302cf0b",
   "metadata": {},
   "outputs": [],
   "source": [
    "def hybrid_recommendation_system(user_id, job_ID, top_n=5):\n",
    "    \n",
    "    content_based_recommendations = recommend_jobs_based_on_content_no_duplicates(job_ID, top_n)\n",
    "    \n",
    "    \n",
    "    collaborative_based_recommendations = recommend_jobs_based_on_collaborative(user_id, top_n)\n",
    "    \n",
    "    \n",
    "    hybrid_recommendations = content_based_recommendations['job'].tolist() + collaborative_based_recommendations\n",
    "    \n",
    "    \n",
    "    hybrid_recommendations = list(set(hybrid_recommendations))\n",
    "    \n",
    "    \n",
    "    hybrid_recommendations = hybrid_recommendations[:top_n]\n",
    "    \n",
    "    return hybrid_recommendations"
   ]
  },
  {
   "cell_type": "code",
   "execution_count": 37,
   "id": "db870e6b",
   "metadata": {},
   "outputs": [
    {
     "data": {
      "text/plain": [
       "['Analyst, Trilogy (Remote) - $60,000/year USD',\n",
       " 'Application Developer: AWS Cloud Microservices',\n",
       " 'Application Database Administrator',\n",
       " 'Application Developer: RPA',\n",
       " 'Data Analyst, Trilogy (Remote) - $60,000/year USD']"
      ]
     },
     "execution_count": 37,
     "metadata": {},
     "output_type": "execute_result"
    }
   ],
   "source": [
    "sample_user_ID_hybrid = sample_user_ID  \n",
    "sample_job_ID_hybrid = sample_job_ID    \n",
    "\n",
    "hybrid_recommendations = hybrid_recommendation_system(sample_user_ID_hybrid, sample_job_ID_hybrid)\n",
    "hybrid_recommendations"
   ]
  },
  {
   "cell_type": "code",
   "execution_count": null,
   "id": "f06a9edd",
   "metadata": {},
   "outputs": [],
   "source": []
  }
 ],
 "metadata": {
  "kernelspec": {
   "display_name": "Python 3 (ipykernel)",
   "language": "python",
   "name": "python3"
  },
  "language_info": {
   "codemirror_mode": {
    "name": "ipython",
    "version": 3
   },
   "file_extension": ".py",
   "mimetype": "text/x-python",
   "name": "python",
   "nbconvert_exporter": "python",
   "pygments_lexer": "ipython3",
   "version": "3.11.3"
  }
 },
 "nbformat": 4,
 "nbformat_minor": 5
}
